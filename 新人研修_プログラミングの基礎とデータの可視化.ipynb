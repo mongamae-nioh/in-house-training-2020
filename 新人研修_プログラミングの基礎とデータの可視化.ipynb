{
  "nbformat": 4,
  "nbformat_minor": 0,
  "metadata": {
    "colab": {
      "name": "新人研修_プログラミングの基礎とデータの可視化.ipynb",
      "provenance": [],
      "collapsed_sections": [
        "JxQkbvWs-8WP",
        "SO5HtSmx6TlQ",
        "Qa1TfJtBS3_S",
        "pxqUH7lnr01-",
        "LTgP2sQnubTd"
      ],
      "toc_visible": true,
      "include_colab_link": true
    },
    "kernelspec": {
      "name": "python3",
      "display_name": "Python 3"
    }
  },
  "cells": [
    {
      "cell_type": "markdown",
      "metadata": {
        "id": "view-in-github",
        "colab_type": "text"
      },
      "source": [
        "<a href=\"https://colab.research.google.com/github/mongamae-nioh/in-house-training-2020/blob/master/%E6%96%B0%E4%BA%BA%E7%A0%94%E4%BF%AE_%E3%83%97%E3%83%AD%E3%82%B0%E3%83%A9%E3%83%9F%E3%83%B3%E3%82%B0%E3%81%AE%E5%9F%BA%E7%A4%8E%E3%81%A8%E3%83%87%E3%83%BC%E3%82%BF%E3%81%AE%E5%8F%AF%E8%A6%96%E5%8C%96.ipynb\" target=\"_parent\"><img src=\"https://colab.research.google.com/assets/colab-badge.svg\" alt=\"Open In Colab\"/></a>"
      ]
    },
    {
      "cell_type": "markdown",
      "metadata": {
        "id": "JOW1fvxgH169",
        "colab_type": "text"
      },
      "source": [
        "# **プログラミングの基礎**\n"
      ]
    },
    {
      "cell_type": "markdown",
      "metadata": {
        "id": "y4CwKjQhIP4t",
        "colab_type": "text"
      },
      "source": [
        "# **アジェンダ**\n",
        "\n",
        "- はじめに\n",
        "- プログラムとは？\n",
        "- こんにちは世界\n",
        "- 変数\n",
        "- 条件分岐\n",
        "- 繰り返し\n",
        "- 関数\n",
        "- オブジェクト指向\n",
        "- クラスとインスタンス"
      ]
    },
    {
      "cell_type": "markdown",
      "metadata": {
        "id": "MFsfUppsLwpB",
        "colab_type": "text"
      },
      "source": [
        "# **はじめに**\n"
      ]
    },
    {
      "cell_type": "markdown",
      "metadata": {
        "id": "OndcYKIsrUl9",
        "colab_type": "text"
      },
      "source": [
        "## **Google Colaboratoryの紹介**\n",
        "\n",
        "https://colab.research.google.com/notebooks/welcome.ipynb?hl=ja\n",
        "> Colaboratory（略称: Colab）では、ブラウザから Python を記述し実行できるほか、次の特長を備えています。\n",
        "> - 構成が不要\n",
        "- GPU への無料アクセス\n",
        "- 簡単に共有\n",
        "\n",
        "機械学習も試しながら学べる\n",
        "https://tkrel.com/10041"
      ]
    },
    {
      "cell_type": "markdown",
      "metadata": {
        "id": "ZDtSiIJuRdqj",
        "colab_type": "text"
      },
      "source": [
        "## **Pythonの紹介**\n",
        "\n",
        "https://www.python.jp/pages/about.html\n",
        "> Python は1990年代初頭ごろから公開されているプログラミング言語で、わかりやすく、実用的な言語として、広く使われ続けています。Pythonはプログラムの「読みやすさ・わかりやすさ」をとても重視していて、Pythonを知らない人でも、理解しやすいようにデザインされています。\n",
        ">\n",
        "> もちろん、読みやすさ一辺倒ではなく、実用的で、高い拡張性も備えています。読みやすさ・習得しやすさと、実用性のバランスが、Pythonの大きな魅力といえるでしょう。\n",
        ">\n",
        ">Pythonは汎用的なプログラミング言語の利用度調査などでは、常に高い位置を占めています。システム管理やツール・アプリケーション開発・科学技術計算・Webシステムなどで広く利用されてきました。特に、2010年代ごろからの機械学習ブームでは、優れた科学技術計算ツールとして評価され、大きな人気を得ました。\n",
        "\n"
      ]
    },
    {
      "cell_type": "markdown",
      "metadata": {
        "id": "ZxNSv3QXJce-",
        "colab_type": "text"
      },
      "source": [
        "# **プログラムとは？**\n",
        "[Wikipedia:プログラム（コンピュータ）](https://ja.wikipedia.org/wiki/%E3%83%97%E3%83%AD%E3%82%B0%E3%83%A9%E3%83%A0_(%E3%82%B3%E3%83%B3%E3%83%94%E3%83%A5%E3%83%BC%E3%82%BF))\n",
        "\n",
        "> コンピュータに対する命令（処理）を記述したもの"
      ]
    },
    {
      "cell_type": "markdown",
      "metadata": {
        "id": "wOK4nw8bJjQj",
        "colab_type": "text"
      },
      "source": [
        "# **こんにちは世界！**\n",
        "すべてのプログラミングはこの文からはじまります。"
      ]
    },
    {
      "cell_type": "code",
      "metadata": {
        "id": "oKhdC6PKJoJ4",
        "colab_type": "code",
        "colab": {}
      },
      "source": [
        "print('Hello world!')"
      ],
      "execution_count": 0,
      "outputs": []
    },
    {
      "cell_type": "markdown",
      "metadata": {
        "id": "CJ5mo3ptJvMH",
        "colab_type": "text"
      },
      "source": [
        "# **変数**\n",
        "\n",
        "名前をつけたデータのこと"
      ]
    },
    {
      "cell_type": "markdown",
      "metadata": {
        "id": "dhNLxd0xpla4",
        "colab_type": "text"
      },
      "source": [
        "## 書き方\n",
        "\n",
        "```python\n",
        "変数名 = 値（数字や文字など）\n",
        "```"
      ]
    },
    {
      "cell_type": "code",
      "metadata": {
        "id": "Dwd20uWQyWwA",
        "colab_type": "code",
        "colab": {}
      },
      "source": [
        "fusion = 'Direct Marketing Agency.'"
      ],
      "execution_count": 0,
      "outputs": []
    },
    {
      "cell_type": "code",
      "metadata": {
        "id": "_wiHSrdYyefY",
        "colab_type": "code",
        "colab": {}
      },
      "source": [
        "fusion = 'Marketing Company.'"
      ],
      "execution_count": 0,
      "outputs": []
    },
    {
      "cell_type": "code",
      "metadata": {
        "id": "VNUgYyT3yo23",
        "colab_type": "code",
        "colab": {}
      },
      "source": [
        "print('FUSION is ' + fusion)"
      ],
      "execution_count": 0,
      "outputs": []
    },
    {
      "cell_type": "markdown",
      "metadata": {
        "id": "1hcBn0cCKE-M",
        "colab_type": "text"
      },
      "source": [
        "# **条件分岐**\n",
        "\n",
        "条件によって処理を変えたいときに使う"
      ]
    },
    {
      "cell_type": "markdown",
      "metadata": {
        "colab_type": "text",
        "id": "w4HCQX1vbj3e"
      },
      "source": [
        "- ウォーターサーバの**水がなくなったら**汲みに行く\n",
        "- ビルの**最終退出者なら**SECOMを設定する\n",
        "- **20歳以下なら**飲酒はできない\n",
        "- **20歳以上なら**お酒を提供できる\n",
        " "
      ]
    },
    {
      "cell_type": "markdown",
      "metadata": {
        "id": "JxQkbvWs-8WP",
        "colab_type": "text"
      },
      "source": [
        "## 書き方\n",
        "\n",
        "```python\n",
        "if 条件式:\n",
        "    処理\n",
        "elif 条件式:\n",
        "    処理\n",
        "else:\n",
        "    処理\n",
        "```"
      ]
    },
    {
      "cell_type": "code",
      "metadata": {
        "id": "KPpS3HG6KNP2",
        "colab_type": "code",
        "colab": {}
      },
      "source": [
        "sneaker_price = 20000\n",
        "\n",
        "if sneaker_price > 15000:\n",
        "  print('高い！')\n",
        "else:\n",
        "  print('買えるかも！')"
      ],
      "execution_count": 0,
      "outputs": []
    },
    {
      "cell_type": "code",
      "metadata": {
        "colab_type": "code",
        "id": "JQ4YZ57M13tZ",
        "colab": {}
      },
      "source": [
        "sneaker_price = 20000\n",
        "\n",
        "discount_rate = 60\n",
        "sneaker_price = sneaker_price * discount_rate / 100\n",
        "\n",
        "if sneaker_price > 15000:\n",
        "  print('高い！')\n",
        "else:\n",
        "  print('買えるかも！')"
      ],
      "execution_count": 0,
      "outputs": []
    },
    {
      "cell_type": "markdown",
      "metadata": {
        "id": "EL8zA4Cn9o2q",
        "colab_type": "text"
      },
      "source": [
        "# 演算子"
      ]
    },
    {
      "cell_type": "markdown",
      "metadata": {
        "id": "0xiLLlXTqw_u",
        "colab_type": "text"
      },
      "source": [
        "## 代表的な演算子\n",
        "\n",
        "### 比較演算子\n",
        "```\n",
        "a == b           # a が b と等しい\n",
        "a != b           # a が b と異なる\n",
        "a < b            # a が b よりも小さい\n",
        "a > b            # a が b よりも大きい\n",
        "a <= b           # a が b 以下である\n",
        "a >= b           # a が b 以上である\n",
        "```\n",
        "\n",
        "### 算術演算子\n",
        "```\n",
        "a + b         # 加算\n",
        "a - b         # 減算\n",
        "a * b         # 乗算\n",
        "a / b         # 除算\n",
        "a % b         # a を b で割った余り\n",
        "```\n"
      ]
    },
    {
      "cell_type": "markdown",
      "metadata": {
        "id": "SO5HtSmx6TlQ",
        "colab_type": "text"
      },
      "source": [
        "### 問題\n",
        "\n",
        "自分の快適な温度はどれくらいですか？\n",
        "温度によって「寒い！」「快適！」「暑い！」と出力するプログラムを開発してください。（回答時間15分）\n",
        "\n",
        "ヒント\n",
        "- 快適温度の境目の数字を変数とします\n",
        "- 条件は3つになります\n",
        "- if / elif / elseを使って表現しましょう\n",
        "- 比較演算子を使いましょう\n",
        "- 快適温度を変えてみて出力される文字が変わることを確認しましょう"
      ]
    },
    {
      "cell_type": "code",
      "metadata": {
        "id": "zul17YoK8sHR",
        "colab_type": "code",
        "outputId": "20549feb-80a0-48f8-ea16-b3e27480c1bb",
        "colab": {
          "base_uri": "https://localhost:8080/"
        }
      },
      "source": [
        "temp = 26\n",
        "\n",
        "if temp <= 15:\n",
        "  print('寒い！')\n",
        "elif 16 <= temp <= 25:\n",
        "  print('快適！')\n",
        "else:\n",
        "  print('暑い！')"
      ],
      "execution_count": 0,
      "outputs": [
        {
          "output_type": "stream",
          "text": [
            "暑い！\n"
          ],
          "name": "stdout"
        }
      ]
    },
    {
      "cell_type": "markdown",
      "metadata": {
        "id": "PHpkfRkxKoqm",
        "colab_type": "text"
      },
      "source": [
        "# **繰り返し**\n",
        "\n",
        "同じ処理を何度も繰り返す"
      ]
    },
    {
      "cell_type": "markdown",
      "metadata": {
        "colab_type": "text",
        "id": "7xsK_4hhbgH9"
      },
      "source": [
        "- デザインを**5回チェック**する\n",
        "- **トランプがなくなるまで**参加者へ**1枚ずつ配る**"
      ]
    },
    {
      "cell_type": "markdown",
      "metadata": {
        "id": "rd83lMv6_yyR",
        "colab_type": "text"
      },
      "source": [
        "## 書き方\n",
        "\n",
        "```python\n",
        "for 変数 in 配列:\n",
        "    処理\n",
        "```\n",
        "\n",
        "```python\n",
        "while 条件式:\n",
        "    処理\n",
        "```\n",
        "\n",
        "\n",
        "### 配列とは\n",
        "複数の要素がある変数\n",
        "\n",
        "例\n",
        "```python\n",
        "odd_number = [1, 3, 5, 7, 9]\n",
        "prefecture = ['北海道', '青森県', '秋田県', ....., '沖縄県']\n",
        "```\n"
      ]
    },
    {
      "cell_type": "code",
      "metadata": {
        "id": "nsQpu0TZKxX8",
        "colab_type": "code",
        "colab": {}
      },
      "source": [
        "week = ['Sun', 'Mon', 'Tue', 'Wed', 'Thu', 'Fri', 'Sat']\n",
        "for day in week:\n",
        "  print(day)"
      ],
      "execution_count": 0,
      "outputs": []
    },
    {
      "cell_type": "markdown",
      "metadata": {
        "id": "qRwt-7Ag6BDz",
        "colab_type": "text"
      },
      "source": [
        "### 問題\n",
        "\n",
        "以下のフィボナッチ数列を1行に1つずつ表示するプログラムを開発してください（回答時間15分）\n",
        "\n",
        "**0, 1, 1, 2, 3, 5, 8, 13, 21, 34, 55, 89, 144, 233, 377, 610, 987, 1597, 2584, 4181, 6765, 10946**\n",
        "\n",
        "\n",
        "\n",
        "ヒント：\n",
        "- フィボナッチ数列を配列にします(上のweekを参考に）\n",
        "- 繰り返しを使って1つずつ値を出力しましょう（出力はprint文を使います）"
      ]
    },
    {
      "cell_type": "code",
      "metadata": {
        "id": "gOXzXc61_abQ",
        "colab_type": "code",
        "colab": {}
      },
      "source": [
        "fib_seq = [0, 1, 1, 2, 3, 5, 8, 13, 21, 34, 55, 89, 144, 233, 377, 610, 987, 1597, 2584, 4181, 6765, 10946]\n",
        "\n",
        "for i in fib_seq:\n",
        "  print(i)"
      ],
      "execution_count": 0,
      "outputs": []
    },
    {
      "cell_type": "markdown",
      "metadata": {
        "id": "_FIHBT5NLTZS",
        "colab_type": "text"
      },
      "source": [
        "# **関数**\n",
        "\n",
        "入力に応じたものを出力する\n",
        "\n",
        "\n"
      ]
    },
    {
      "cell_type": "markdown",
      "metadata": {
        "colab_type": "text",
        "id": "5WhzY999bqdz"
      },
      "source": [
        "- y=2x\n",
        "- 自動販売機\n",
        "\n",
        "\n",
        "など"
      ]
    },
    {
      "cell_type": "markdown",
      "metadata": {
        "id": "vN3F67lUDt24",
        "colab_type": "text"
      },
      "source": [
        "## 書き方\n",
        "\n",
        "```python\n",
        "def 関数名(引数):\n",
        "    処理\n",
        "    (必要に応じて)戻り値\n",
        "```"
      ]
    },
    {
      "cell_type": "code",
      "metadata": {
        "id": "j9q8GGoZLnp4",
        "colab_type": "code",
        "colab": {}
      },
      "source": [
        "def count_working_time(starttime, endtime):\n",
        "  print('始業時刻:' + str(starttime) + '時')\n",
        "  print('終業時刻:' + str(endtime) + '時')\n",
        "  print('労働時間:' + str(endtime - starttime) + '時間')"
      ],
      "execution_count": 0,
      "outputs": []
    },
    {
      "cell_type": "code",
      "metadata": {
        "id": "pw08hmG7MYM3",
        "colab_type": "code",
        "colab": {
          "base_uri": "https://localhost:8080/",
          "height": 72
        },
        "outputId": "de6c145d-3245-4a38-9440-bc4bd8192b6d"
      },
      "source": [
        "count_working_time(9, 18)"
      ],
      "execution_count": 4,
      "outputs": [
        {
          "output_type": "stream",
          "text": [
            "始業時刻:9時\n",
            "終業時刻:18時\n",
            "労働時間:9時間\n"
          ],
          "name": "stdout"
        }
      ]
    },
    {
      "cell_type": "markdown",
      "metadata": {
        "id": "Qa1TfJtBS3_S",
        "colab_type": "text"
      },
      "source": [
        "### 問題1\n",
        "\n",
        "数字を入力すると2倍の値を出力する関数を開発してください（回答時間10分）\n",
        "\n",
        "ヒント：\n",
        "- 算術演算子"
      ]
    },
    {
      "cell_type": "code",
      "metadata": {
        "id": "3VAFtC2sRb4c",
        "colab_type": "code",
        "colab": {}
      },
      "source": [
        "def double(x):\n",
        "  print(x * 2)"
      ],
      "execution_count": 0,
      "outputs": []
    },
    {
      "cell_type": "markdown",
      "metadata": {
        "id": "pxqUH7lnr01-",
        "colab_type": "text"
      },
      "source": [
        "### 問題2\n",
        "入力した整数が奇数か偶数か教えてくれる関数を開発してください（回答時間30分）\n",
        "\n",
        "ヒント：\n",
        "- 奇数と偶数の特徴は？\n",
        "- もし○○なら偶数、○○なら奇数というように条件分岐をうまく使いましょう"
      ]
    },
    {
      "cell_type": "code",
      "metadata": {
        "id": "pYOFEDuts-tx",
        "colab_type": "code",
        "colab": {}
      },
      "source": [
        "def check_even_odd(number):\n",
        "  if number % 2 == 0:\n",
        "    print('偶数です！')\n",
        "  else:\n",
        "    print('奇数です！')"
      ],
      "execution_count": 0,
      "outputs": []
    },
    {
      "cell_type": "code",
      "metadata": {
        "id": "QM_VIzAttNQE",
        "colab_type": "code",
        "colab": {}
      },
      "source": [
        "check_even_odd(6)"
      ],
      "execution_count": 0,
      "outputs": []
    },
    {
      "cell_type": "markdown",
      "metadata": {
        "id": "LTgP2sQnubTd",
        "colab_type": "text"
      },
      "source": [
        "### 考えてみよう：整数以外を入力したらどうなる？"
      ]
    },
    {
      "cell_type": "code",
      "metadata": {
        "id": "7FikDUYNtlgw",
        "colab_type": "code",
        "colab": {}
      },
      "source": [
        "def check_even_odd(number):\n",
        "  if isinstance(number, int):\n",
        "    if number % 2 == 0:\n",
        "      print('偶数です！')\n",
        "    else:\n",
        "      print('奇数です！')\n",
        "  else:\n",
        "    print('整数値を入力してください')\n",
        "  "
      ],
      "execution_count": 0,
      "outputs": []
    },
    {
      "cell_type": "code",
      "metadata": {
        "id": "l2rDNTzfuHCV",
        "colab_type": "code",
        "outputId": "b9a2c8f6-60ca-4beb-a467-6b8b0a68ee97",
        "colab": {
          "base_uri": "https://localhost:8080/"
        }
      },
      "source": [
        "check_even_odd(10.456)"
      ],
      "execution_count": 0,
      "outputs": [
        {
          "output_type": "stream",
          "text": [
            "整数値を入力してください\n"
          ],
          "name": "stdout"
        }
      ]
    },
    {
      "cell_type": "markdown",
      "metadata": {
        "id": "ev7g9eS-M6JK",
        "colab_type": "text"
      },
      "source": [
        "# **オブジェクト指向**\n",
        "[オブジェクト指向とは](http://e-words.jp/w/%E3%82%AA%E3%83%96%E3%82%B8%E3%82%A7%E3%82%AF%E3%83%88%E6%8C%87%E5%90%91.html#:~:text=%E3%82%AA%E3%83%96%E3%82%B8%E3%82%A7%E3%82%AF%E3%83%88%E6%8C%87%E5%90%91%E3%81%A8%E3%81%AF%E3%80%81%E3%82%B3%E3%83%B3%E3%83%94%E3%83%A5%E3%83%BC%E3%82%BF,%E6%A7%8B%E7%AF%89%E3%81%97%E3%81%A6%E3%81%84%E3%81%8F%E6%89%8B%E6%B3%95%E3%80%82)\n",
        "\n",
        "> オブジェクト指向とは、コンピュータプログラムの設計や実装についての考え方の一つで、互いに密接に関連するデータと手続き（処理手順）をオブジェクト（object）と呼ばれる一つのまとまりとして定義し、様々なオブジェクトを組み合わせて関連性や相互作用を記述していくことによりシステム全体を構築していく手法。\n",
        "\n",
        "[オブジェクト指向の基本がよ～くわかる本](https://www.amazon.co.jp/%E3%83%9D%E3%82%B1%E3%83%83%E3%83%88%E5%9B%B3%E8%A7%A3-%E3%82%AA%E3%83%96%E3%82%B8%E3%82%A7%E3%82%AF%E3%83%88%E6%8C%87%E5%90%91%E3%81%AE%E5%9F%BA%E6%9C%AC%E3%81%8C%E3%82%88-%E3%81%8F%E3%82%8F%E3%81%8B%E3%82%8B%E6%9C%AC-%E8%B0%B7%E5%8F%A3-%E5%8A%9F/dp/479802628X)\n",
        "\n",
        "> オブジェクトを中心にした考え方であり、オブジェクトを中心に世界を捉え、オブジェクトに注目して物事を進めていくという思考方法"
      ]
    },
    {
      "cell_type": "markdown",
      "metadata": {
        "colab_type": "text",
        "id": "UrGw95eJJKIA"
      },
      "source": [
        "## オブジェクトとは\n",
        "- 目に見えて触れることができるモノ\n",
        " - 家\n",
        " - スマートフォン\n",
        " - オフィス\n",
        "- 概念的ではあるが具体的なモノ\n",
        " - 30期の新入社員研修（「研修」は概念的なのでオブジェクトではない）\n",
        " - 2020年5月の旅行（「旅行」も具体性が無い）\n"
      ]
    },
    {
      "cell_type": "markdown",
      "metadata": {
        "id": "RaXPyJqhNW0Z",
        "colab_type": "text"
      },
      "source": [
        "## **クラスとオブジェクト**\n",
        "### クラス\n",
        "具体的なモノだけで世界があふれないようにオブジェクトが抽象化されたもの（設計図のようなもの）\n",
        "\n",
        "例：\n",
        "- 車\n",
        "- 人間\n",
        "- 魚\n",
        "- 星\n",
        "\n",
        "\n",
        "### オブジェクト\n",
        "クラスから作成する具体的なモノ\n",
        "\n",
        "インスタンスとも言う\n",
        "\n",
        "例：\n",
        "- 車クラス -> HONDA Fit\n",
        "- 人間クラス -> ○○さん\n",
        "- 魚クラス -> サーモン\n",
        "- 星クラス -> リゲル"
      ]
    },
    {
      "cell_type": "markdown",
      "metadata": {
        "id": "dlNXs16jRUOj",
        "colab_type": "text"
      },
      "source": [
        "### クラスからオブジェクトを作る\n",
        "\n",
        "人というクラスから自分というオブジェクトを作って自己紹介してみましょう"
      ]
    },
    {
      "cell_type": "code",
      "metadata": {
        "id": "7NG7lFVxNqL5",
        "colab_type": "code",
        "colab": {}
      },
      "source": [
        "class Person:\n",
        "  def __init__(self, name, age):\n",
        "    self.name = name\n",
        "    self.age = age\n",
        "  \n",
        "  def selfIntroduction(self):\n",
        "    print('Hello! My name is',self.name, \n",
        "          'I am',self.age,'years old.')"
      ],
      "execution_count": 0,
      "outputs": []
    },
    {
      "cell_type": "markdown",
      "metadata": {
        "id": "2eXMGqlmRy3S",
        "colab_type": "text"
      },
      "source": [
        "名前や年齢のようなオブジェクトが持つデータのことを**プロパティ**と言う。\n",
        "\n",
        "自己紹介のようなアクションのことを**メソッド**と言う。\n"
      ]
    },
    {
      "cell_type": "code",
      "metadata": {
        "id": "d5rfuUO0uOFq",
        "colab_type": "code",
        "colab": {}
      },
      "source": [
        ""
      ],
      "execution_count": 0,
      "outputs": []
    },
    {
      "cell_type": "markdown",
      "metadata": {
        "id": "J3rSfQMINbIE",
        "colab_type": "text"
      },
      "source": [
        "# 課題：コロナ禍でも存在感を発揮できるマーケターになるために\n",
        "\n",
        "- あなたはマーケターです\n",
        "- クライアントはチカホにあるコーヒー屋さんです\n",
        "- コーヒー屋の売上の5割は朝の通勤客によるもの\n",
        "- 新型コロナの影響で、緊急事態宣言が出された2月末からの売上が昨年比で7割減\n",
        "- 人の流れが減ったからだとはわかっているが、果たしてそれだけなのか、店側にもなにか問題があるかもしれないと考えている様子\n",
        "- まずは**昨年同時期からどれくらい人の流れが減っているのか調べてほしい**とのこと\n",
        "- **どうしたらお店が存続できるか具体的に提案**してほしいということで来週月曜に提案することを約束した\n"
      ]
    },
    {
      "cell_type": "markdown",
      "metadata": {
        "id": "8c1G3dIm5gAv",
        "colab_type": "text"
      },
      "source": [
        "## アウトプットについて\n",
        "- 2019年3月11日（月）と2020年3月9日（月）（緊急事態宣言発令後から2週間後）のチカホの人流を１枚のグラフにプロットすること\n",
        "- 人流の量はオープンデータを使うこと\n",
        "  - [札幌ICT活用プラットフォーム DATA-SMART CITY SAPPORO](https://data.pf-sapporo.jp/)\n",
        "- 緊急事態宣言発令後のグラフは赤色にすること\n",
        "- 比較対象とする人流の計測ポイントはJ4とすること\n",
        "- 10ページ以内で店が存続するための施策を記載した提案書を作成すること\n",
        "- 提案書の書式はFUSIONの標準提案書を使うこと\n",
        "- 提案書の構成はおおよそ以下のとおりとすること\n",
        "  - 表紙\n",
        "  - 目次\n",
        "  - はじめに（提案機会を頂いたことに対する感謝と提案の概要を書く）\n",
        "  - 事実\n",
        "    - 昨年同時期と比べて売上が7割ほど低下していること\n",
        "    - チカホのコロナ前後における人流の量（比較グラフを貼り付け）\n",
        "  - 売上低下の要因（コロナの影響とそれ以外の面）（自分の推測を含める）\n",
        "  - 人の流れは今後もしばらく続くとして売上を伸ばすための提案（2つ以上の施策を提案する）\n",
        "- 課題取り組み発表は6/15 15:00～です\n",
        " - Google Colabで書いたプログラミングの内容とパワーポイントの提案書を用意してください。"
      ]
    },
    {
      "cell_type": "markdown",
      "metadata": {
        "id": "Mzi6v16ISQyv",
        "colab_type": "text"
      },
      "source": [
        "## お題のプログラム"
      ]
    },
    {
      "cell_type": "code",
      "metadata": {
        "id": "HJVWN8qStf5o",
        "colab_type": "code",
        "colab": {
          "base_uri": "https://localhost:8080/",
          "height": 381
        },
        "outputId": "c329f5b3-f1c6-4b79-91e5-11554760236e"
      },
      "source": [
        "!pip install japanize-matplotlib\n",
        "import pandas as pd\n",
        "import matplotlib.pyplot as plt\n",
        "import japanize_matplotlib"
      ],
      "execution_count": 27,
      "outputs": [
        {
          "output_type": "stream",
          "text": [
            "Collecting japanize-matplotlib\n",
            "\u001b[?25l  Downloading https://files.pythonhosted.org/packages/2c/aa/3b24d54bd02e25d63c8f23bb316694e1aad7ffdc07ba296e7c9be2f6837d/japanize-matplotlib-1.1.2.tar.gz (4.1MB)\n",
            "\u001b[K     |████████████████████████████████| 4.1MB 9.1MB/s \n",
            "\u001b[?25hRequirement already satisfied: matplotlib in /usr/local/lib/python3.6/dist-packages (from japanize-matplotlib) (3.2.1)\n",
            "Requirement already satisfied: numpy>=1.11 in /usr/local/lib/python3.6/dist-packages (from matplotlib->japanize-matplotlib) (1.18.5)\n",
            "Requirement already satisfied: cycler>=0.10 in /usr/local/lib/python3.6/dist-packages (from matplotlib->japanize-matplotlib) (0.10.0)\n",
            "Requirement already satisfied: pyparsing!=2.0.4,!=2.1.2,!=2.1.6,>=2.0.1 in /usr/local/lib/python3.6/dist-packages (from matplotlib->japanize-matplotlib) (2.4.7)\n",
            "Requirement already satisfied: kiwisolver>=1.0.1 in /usr/local/lib/python3.6/dist-packages (from matplotlib->japanize-matplotlib) (1.2.0)\n",
            "Requirement already satisfied: python-dateutil>=2.1 in /usr/local/lib/python3.6/dist-packages (from matplotlib->japanize-matplotlib) (2.8.1)\n",
            "Requirement already satisfied: six in /usr/local/lib/python3.6/dist-packages (from cycler>=0.10->matplotlib->japanize-matplotlib) (1.12.0)\n",
            "Building wheels for collected packages: japanize-matplotlib\n",
            "  Building wheel for japanize-matplotlib (setup.py) ... \u001b[?25l\u001b[?25hdone\n",
            "  Created wheel for japanize-matplotlib: filename=japanize_matplotlib-1.1.2-cp36-none-any.whl size=4120191 sha256=fe4b87e614891f1fa1ba1fdf8e08c7c537fce93cc0f3a6d2554d7071bfaf80cf\n",
            "  Stored in directory: /root/.cache/pip/wheels/9c/f9/fc/bc052ce743a03f94ccc7fda73d1d389ce98216c6ffaaf65afc\n",
            "Successfully built japanize-matplotlib\n",
            "Installing collected packages: japanize-matplotlib\n",
            "Successfully installed japanize-matplotlib-1.1.2\n"
          ],
          "name": "stdout"
        },
        {
          "output_type": "stream",
          "text": [
            "/usr/local/lib/python3.6/dist-packages/japanize_matplotlib/japanize_matplotlib.py:15: MatplotlibDeprecationWarning: \n",
            "The createFontList function was deprecated in Matplotlib 3.2 and will be removed two minor releases later. Use FontManager.addfont instead.\n",
            "  font_list = font_manager.createFontList(font_files)\n"
          ],
          "name": "stderr"
        }
      ]
    },
    {
      "cell_type": "code",
      "metadata": {
        "id": "BsoNnRxiunCs",
        "colab_type": "code",
        "colab": {}
      },
      "source": [
        "# オープンデータをデータフレームへ格納する\n",
        "# データ参照先\n",
        "# https://ckan.pf-sapporo.jp/dataset/chikaho-jinryu\n",
        "csv1 = 'https://ckan.pf-sapporo.jp/dataset/224cede7-c57d-47d9-9279-23264058286e/resource/6f25d9c3-bd01-4430-96a0-03ac53b50ef4/download/sm201903.csv'\n",
        "\n",
        "df1 = pd.read_csv(csv1, header=0,  names=('日時', '計測ポイント', '札幌から大通り', '大通りから札幌', '合計', '補正'))"
      ],
      "execution_count": 0,
      "outputs": []
    },
    {
      "cell_type": "code",
      "metadata": {
        "id": "6d5Qg0oSPdiD",
        "colab_type": "code",
        "colab": {}
      },
      "source": [
        "# 指定日・指定計測ポイントの人流をデータフレームへ格納する関数\n",
        "def create_data_frame1(place, date):\n",
        "  df_a = df1[df1['計測ポイント'] == place]\n",
        "  df_b = df_a[df_a['日時'].str.contains(date)]\n",
        "  return df_b"
      ],
      "execution_count": 0,
      "outputs": []
    },
    {
      "cell_type": "code",
      "metadata": {
        "id": "NrVhL93jihog",
        "colab_type": "code",
        "colab": {}
      },
      "source": [
        "# 人流を比較するグラフを表示する関数\n",
        "def display_graph(graphtitle, labelx, labely, targetdata, place, date1):\n",
        "  # 縦軸横軸の値を格納する空のリスト\n",
        "  x1_value = []\n",
        "  y1_value = []\n",
        "\n",
        "  # グラフサイズ、色、凡例のラベル\n",
        "  fig, ax = plt.subplots(figsize=(40,20))\n",
        "  c1 = \"blue\"\n",
        "  l1 = \"コロナ前: \" + date1  # 各ラベル\n",
        "\n",
        "  # データフレーム\n",
        "  data_frame1 = create_data_frame1(place, date1)\n",
        "\n",
        "  # データフレームの値を縦横軸のリストへ追記\n",
        "  i = 0 \n",
        "  for i in range(len(data_frame1)):\n",
        "    x1_value.append(str(data_frame1.iloc[i][\"日時\"])[10:16])\n",
        "    y1_value.append(data_frame1.iloc[i][targetdata])\n",
        "    i += 1\n",
        "\n",
        "  # グラフ描画\n",
        "  fontsize = 30\n",
        "  ax.set_xlabel(labelx, fontsize=fontsize)  # x軸ラベル\n",
        "  ax.set_ylabel(labely, fontsize=fontsize)  # y軸ラベル\n",
        "  ax.set_title(graphtitle, fontsize=fontsize) # グラフタイトル\n",
        "  ax.grid()            # 罫線\n",
        "  ax.plot(x1_value, y1_value, color=c1, label=l1, linewidth = 3.0)\n",
        "  ax.legend(loc=0, fontsize=fontsize)    # 凡例\n",
        "  fig.tight_layout()  # レイアウトの設定\n",
        "  plt.show()"
      ],
      "execution_count": 0,
      "outputs": []
    },
    {
      "cell_type": "code",
      "metadata": {
        "id": "cF4VQdF0QviP",
        "colab_type": "code",
        "outputId": "64ba9c8b-1166-4ef7-ae37-2a7576d48bd4",
        "colab": {
          "base_uri": "https://localhost:8080/",
          "height": 676
        }
      },
      "source": [
        "display_graph('コロナ前後におけるチカホの人流', '時間', '人流', '合計', 'J4', '2019-03-11')"
      ],
      "execution_count": 31,
      "outputs": [
        {
          "output_type": "display_data",
          "data": {
            "image/png": "[encoded data removed]",
            "text/plain": [
              "<Figure size 2880x1440 with 1 Axes>"
            ]
          },
          "metadata": {
            "tags": [],
            "needs_background": "light"
          }
        }
      ]
    },
    {
      "cell_type": "markdown",
      "metadata": {
        "id": "o3DkQzq9SbJx",
        "colab_type": "text"
      },
      "source": [
        "## ヒントなど\n",
        "\n",
        "- プログラムの**○○1**に注目しましょう\n",
        "- 自分のGoogle colabでこのプログラムを開いて動かしてみましょう\n",
        "- エラーになってもなんの影響もないので書いては直しを繰り返しましょう\n",
        "- 質問あれば遠慮なく聞いてください"
      ]
    }
  ]
}